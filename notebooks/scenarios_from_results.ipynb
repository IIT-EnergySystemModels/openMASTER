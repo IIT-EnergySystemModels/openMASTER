{
 "cells": [
  {
   "attachments": {},
   "cell_type": "markdown",
   "metadata": {},
   "source": [
    "# Create a scenario from results\n",
    "\n",
    "In the model, a scenario is defined for every different set of inputs for which the model produces the output. "
   ]
  },
  {
   "attachments": {},
   "cell_type": "markdown",
   "metadata": {},
   "source": [
    "-------------------------"
   ]
  },
  {
   "cell_type": "code",
   "execution_count": 1,
   "metadata": {},
   "outputs": [
    {
     "data": {
      "text/plain": [
       "'1.0.0'"
      ]
     },
     "execution_count": 1,
     "metadata": {},
     "output_type": "execute_result"
    }
   ],
   "source": [
    "import openMASTER\n",
    "openMASTER.__version__"
   ]
  },
  {
   "cell_type": "code",
   "execution_count": 2,
   "metadata": {},
   "outputs": [],
   "source": [
    "output_path = \"../data/tmp/output\"\n",
    "d_vars = openMASTER.import_results_from_csv(output_path)"
   ]
  },
  {
   "attachments": {},
   "cell_type": "markdown",
   "metadata": {},
   "source": [
    "Scenario management"
   ]
  },
  {
   "cell_type": "code",
   "execution_count": 3,
   "metadata": {},
   "outputs": [],
   "source": [
    "import os\n",
    "import shutil\n",
    "import time\n",
    "from datetime import datetime\n",
    "\n",
    "def copy_and_overwrite(src, dst):\n",
    "    # Create the subdirectory in the destination folder\n",
    "    subdirectory = os.path.join(dst, os.path.basename(src))\n",
    "\n",
    "    # If the subdirectory already exists, remove it\n",
    "    if os.path.exists(subdirectory):\n",
    "        shutil.rmtree(subdirectory)\n",
    "        \n",
    "    # Copy the contents of the source folder into the subdirectory\n",
    "    shutil.copytree(src, subdirectory)"
   ]
  },
  {
   "cell_type": "code",
   "execution_count": 4,
   "metadata": {},
   "outputs": [],
   "source": [
    "import pandas as pd\n",
    "\n",
    "# Output Index config file path\n",
    "excel_path     = \"../data/input/openMASTER_Data.xlsm\"                \n",
    "# Loading the Output Index config\n",
    "index_config   = pd.read_excel(excel_path, sheet_name=\"Output\")\n",
    "\n",
    "# Scenarios file path\n",
    "scenarios_path = \"../scenarios\"\n",
    "\n",
    "# Data file path\n",
    "data_path      = \"../data\"\n",
    "\n",
    "# Source file path\n",
    "src_path       = \"../src\""
   ]
  },
  {
   "cell_type": "code",
   "execution_count": 5,
   "metadata": {},
   "outputs": [],
   "source": [
    "# Loading the scenario name\n",
    "index_config_columns = list(index_config.columns)                       # Loading all the colums from the \"Output\" sheet\n",
    "scenario_column = index_config_columns.index(\"Scenario name:\") + 1      # Finding the scenario name in the list of columns\n",
    "scenario_name = index_config_columns[scenario_column]                   # Extracting the scenario name\n",
    "\n",
    "# Loading the scenario description\n",
    "for row in index_config.index:\n",
    "    for col_idx, col in enumerate(index_config.columns[:-1]):\n",
    "        if \"Scenario description\" in str(index_config.at[row, col]):\n",
    "            next_column   = index_config.columns[col_idx + 1     ]\n",
    "            scenario_desc = index_config.at     [row, next_column]\n",
    "\n",
    "# Loading the actual timestamp\n",
    "current_timestamp = datetime.now().strftime(\"%d_%m_%Y-%H_%M_%S\")\n",
    "\n",
    "# Generatinf a Scenario ID\n",
    "scenarioID = scenario_name+\"_\"+current_timestamp\n",
    "\n",
    "# Extracting the sceneario general information\n",
    "scenario_info = {\"ScenarioID\": scenarioID , \"Scenario name\": scenario_name, \"Scenario description\": scenario_desc}\n",
    "df_scenario_info = pd.DataFrame.from_dict(scenario_info, orient='index').transpose()\n",
    "\n",
    "# Creating a folder with the name of the scenario\n",
    "scenario_folder = os.path.join(scenarios_path, scenarioID)           # Path of the new scenario folder\n",
    "\n",
    "try:\n",
    "    # Try to create the folder for the new scenario\n",
    "    os.makedirs(scenario_folder)\n",
    "except FileExistsError:\n",
    "    # If the folder already exists, print a warning message\n",
    "    print(f\"The folder {scenario_folder} already exists in the specified path. Content may be overwritten.\")\n",
    "\n",
    "# Copying the contents from the data folder to the scenario folder\n",
    "openMASTER.utils.copy_and_overwrite(data_path, scenario_folder)\n",
    "\n",
    "# Copying the contents from the srcfolder to the scenario folder\n",
    "openMASTER.utils.copy_and_overwrite(src_path, scenario_folder)"
   ]
  },
  {
   "cell_type": "code",
   "execution_count": 6,
   "metadata": {},
   "outputs": [
    {
     "data": {
      "text/plain": [
       "'\\n# Scenario Index File Path\\nscenario_index_path = \"../scenarios/scenarios_index.csv\"\\n\\n# Adding the new scenario to the index of scenarios\\nif os.path.exists(scenario_index_path):\\n    \\n    # If the file exists, load it into a DataFrame\\n    df_scenario_index = pd.read_csv(scenario_index_path)\\n    df_scenario_index = pd.concat([df_scenario_index, df_scenario_info], axis=0, ignore_index=True)\\nelse:\\n    # If the file doesn\\'t exist, create a new DataFrame with the desired columns\\n    df_scenario_index = df_scenario_info.copy()\\n\\ndf_scenario_index.to_csv(scenario_index_path, index=False)\\n'"
      ]
     },
     "execution_count": 6,
     "metadata": {},
     "output_type": "execute_result"
    }
   ],
   "source": [
    "'''\n",
    "# Scenario Index File Path\n",
    "scenario_index_path = \"../scenarios/scenarios_index.csv\"\n",
    "\n",
    "# Adding the new scenario to the index of scenarios\n",
    "if os.path.exists(scenario_index_path):\n",
    "    \n",
    "    # If the file exists, load it into a DataFrame\n",
    "    df_scenario_index = pd.read_csv(scenario_index_path)\n",
    "    df_scenario_index = pd.concat([df_scenario_index, df_scenario_info], axis=0, ignore_index=True)\n",
    "else:\n",
    "    # If the file doesn't exist, create a new DataFrame with the desired columns\n",
    "    df_scenario_index = df_scenario_info.copy()\n",
    "\n",
    "df_scenario_index.to_csv(scenario_index_path, index=False)\n",
    "'''"
   ]
  }
 ],
 "metadata": {
  "kernelspec": {
   "display_name": "Python 3 (ipykernel)",
   "language": "python",
   "name": "python3"
  },
  "language_info": {
   "codemirror_mode": {
    "name": "ipython",
    "version": 3
   },
   "file_extension": ".py",
   "mimetype": "text/x-python",
   "name": "python",
   "nbconvert_exporter": "python",
   "pygments_lexer": "ipython3",
   "version": "3.10.11"
  },
  "vscode": {
   "interpreter": {
    "hash": "b0517a97abf0a6b47b3d9f8b7b88c86ebe679f61210aefcb79cf5ebc38f36513"
   }
  }
 },
 "nbformat": 4,
 "nbformat_minor": 4
}
