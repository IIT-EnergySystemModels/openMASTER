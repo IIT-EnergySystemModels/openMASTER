{
 "cells": [
  {
   "attachments": {},
   "cell_type": "markdown",
   "metadata": {},
   "source": [
    "# OpenMASTER - correlations"
   ]
  },
  {
   "attachments": {},
   "cell_type": "markdown",
   "metadata": {},
   "source": [
    "-------------------------"
   ]
  },
  {
   "cell_type": "code",
   "execution_count": null,
   "metadata": {},
   "outputs": [],
   "source": [
    "import pyomo.environ as pyo\n",
    "import openMASTER\n",
    "import numpy as np\n",
    "import itertools"
   ]
  },
  {
   "cell_type": "markdown",
   "metadata": {},
   "source": [
    "### Define the abstract model"
   ]
  },
  {
   "cell_type": "code",
   "execution_count": null,
   "metadata": {},
   "outputs": [],
   "source": [
    "m = openMASTER.make_model()\n",
    "m"
   ]
  },
  {
   "cell_type": "markdown",
   "metadata": {},
   "source": [
    "### Model data upload\n",
    "\n",
    "* If you haven't created the .csv files, please:\n",
    "    * Be aware the openMASTER_Data.xlsx file has to be downloaded using git-lfs or the following link:\n",
    "        https://github.com/IIT-EnergySystemModels/openMASTER/raw/main/data/input/openMASTER_Data.xlsx?download=\n",
    "    * Run the first line of code in this cell, which will both create the .csv files and load them into the DataPortal (this whole function takes several minutes)\n",
    "\n",
    "* On the contrary, if you have already created the .csv files from the Excel file and haven't changed them, you can directly go on to the second line of code. This will save some minutes.\n",
    "\n",
    "In any case, add \"#\" in front of the line you are not running."
   ]
  },
  {
   "cell_type": "code",
   "execution_count": null,
   "metadata": {},
   "outputs": [],
   "source": [
    "data = openMASTER.load_dataportal_from_excel('../data/input/openMASTER_Data.xlsx')\n",
    "#data = openMASTER.load_dataportal_from_csv()"
   ]
  },
  {
   "cell_type": "markdown",
   "metadata": {},
   "source": [
    "### Create the instance of the abstract model "
   ]
  },
  {
   "cell_type": "code",
   "execution_count": null,
   "metadata": {},
   "outputs": [],
   "source": [
    "instance = m.create_instance(data)"
   ]
  },
  {
   "cell_type": "markdown",
   "metadata": {},
   "source": [
    "### Principal components analysis (PCA)"
   ]
  },
  {
   "cell_type": "code",
   "execution_count": null,
   "metadata": {},
   "outputs": [],
   "source": [
    "#Correlation set up\n",
    "instance.f1= instance.f[:instance.pNumPCA]\n",
    "instance.fr= instance.f[instance.pNumPCA:]\n",
    "\n",
    "\n",
    "\n",
    "X = instance.pUnc.values\n",
    "#print(X)\n",
    "\n",
    "# Compute the mean for each column\n",
    "s_bar = np.mean(X, axis=0)\n",
    "\n",
    "# Subtract the mean from each row to center the data\n",
    "X_o = X - s_bar\n",
    "#print(X_o)\n",
    "\n",
    "from sklearn.decomposition import PCA\n",
    "#we compute the singular value decomposition\n",
    "\n",
    "u, s, vh = np.linalg.svd(np.cov(X_o.T), full_matrices=True) \n",
    "##np.linalg.svd --> Singular Value Decomposition:\n",
    "##np.cov --> estimate the covariance matrix\n",
    "##u is eigenvector matrix and s are the eigenvalues\n",
    "\n",
    "#now we compute the vectors needed to build the uncertainty region\n",
    "w_max=np.max(np.dot(X_o,u)/np.linalg.norm(u,axis=0),0)\n",
    "w_max_dict = {f[i]: w_max[i] for i in range(len(f))}\n",
    "\n",
    "w_min=np.min(np.dot(X_o,u)/np.linalg.norm(u,axis=0),0)\n",
    "w_min_dict = {f[i]: w_min[i] for i in range(len(f))}\n",
    "\n",
    "alpha_up=(w_max/np.linalg.norm(u,axis=0))*u\n",
    "alpha_up_dict = {(f_i, info_j, g_k): alpha_up[i, j] for i, f_i in enumerate(f) for j, (info_j,g_k) in enumerate(itertools.product(info,g))}\n",
    "\n",
    "alpha_do=(w_min/np.linalg.norm(u,axis=0))*u\n",
    "alpha_do_dict = {(f_i, info_j, g_k): alpha_do[i, j] for i, f_i in enumerate(f) for j, (info_j,g_k) in enumerate(itertools.product(info,g))}\n",
    "\n",
    "rest =((w_max+w_min)/(2*np.linalg.norm(u,axis=0)))*u\n",
    "rest_dict     = {(f_i, info_j, g_k): rest    [i, j] for i, f_i in enumerate(f) for j, (info_j,g_k) in enumerate(itertools.product(info,g))}\n",
    "\n",
    "\n",
    "print(s_bar)"
   ]
  },
  {
   "cell_type": "markdown",
   "metadata": {},
   "source": [
    "### Solve the model instance\n",
    "\n",
    "To solve the model instance, please select a solver within the Pyomo SolverFactory. Please note that any solver has to be previously installed."
   ]
  },
  {
   "cell_type": "code",
   "execution_count": null,
   "metadata": {},
   "outputs": [],
   "source": [
    "solver = pyo.SolverFactory('gurobi')\n",
    "\n",
    "solver_results = solver.solve(instance, keepfiles=False, tee=True)"
   ]
  },
  {
   "attachments": {},
   "cell_type": "markdown",
   "metadata": {},
   "source": [
    "### **Results**"
   ]
  },
  {
   "attachments": {},
   "cell_type": "markdown",
   "metadata": {},
   "source": [
    "Extract information on variables through the model output to .csv files"
   ]
  },
  {
   "cell_type": "code",
   "execution_count": null,
   "metadata": {},
   "outputs": [],
   "source": [
    "path        = \"../data/input/openMASTER_Data.xlsx\"\n",
    "output_path = \"../data/tmp/output\"\n",
    "sheetname   = \"Output\"\n",
    "\n",
    "d_vars_from_instance = openMASTER.export_model_to_csv(path, output_path, sheetname, instance)"
   ]
  },
  {
   "attachments": {},
   "cell_type": "markdown",
   "metadata": {},
   "source": [
    "Loading variable information from .csv to a dictionary containing all outputs"
   ]
  },
  {
   "cell_type": "code",
   "execution_count": null,
   "metadata": {},
   "outputs": [],
   "source": [
    "d_vars = openMASTER.import_results_from_csv(output_path)"
   ]
  }
 ],
 "metadata": {
  "kernelspec": {
   "display_name": "Python 3 (ipykernel)",
   "language": "python",
   "name": "python3"
  },
  "language_info": {
   "codemirror_mode": {
    "name": "ipython",
    "version": 3
   },
   "file_extension": ".py",
   "mimetype": "text/x-python",
   "name": "python",
   "nbconvert_exporter": "python",
   "pygments_lexer": "ipython3",
   "version": "3.7.8"
  },
  "vscode": {
   "interpreter": {
    "hash": "b0517a97abf0a6b47b3d9f8b7b88c86ebe679f61210aefcb79cf5ebc38f36513"
   }
  }
 },
 "nbformat": 4,
 "nbformat_minor": 4
}
