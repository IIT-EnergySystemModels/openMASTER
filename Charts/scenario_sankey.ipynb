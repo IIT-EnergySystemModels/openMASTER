{
 "cells": [
  {
   "attachments": {},
   "cell_type": "markdown",
   "metadata": {},
   "source": [
    "### **Imports**"
   ]
  },
  {
   "cell_type": "code",
   "execution_count": 1,
   "metadata": {},
   "outputs": [],
   "source": [
    "import pandas as pd\n",
    "import os\n",
    "\n",
    "from openMASTER.Graphing_Tool.sankey import create_sankey_diagram"
   ]
  },
  {
   "attachments": {},
   "cell_type": "markdown",
   "metadata": {},
   "source": [
    "### **Paths**"
   ]
  },
  {
   "cell_type": "code",
   "execution_count": 2,
   "metadata": {},
   "outputs": [],
   "source": [
    "MAPPINGS_DATA_PATH = \"../Dashboard/app/assets/data/mappings\"\n",
    "INPUT_DATA_PATH = \"../data/tmp/input\"\n",
    "OUTPUT_DATA_PATH = \"../data/tmp/output\""
   ]
  },
  {
   "attachments": {},
   "cell_type": "markdown",
   "metadata": {},
   "source": [
    "### **Functions**"
   ]
  },
  {
   "cell_type": "code",
   "execution_count": 3,
   "metadata": {},
   "outputs": [],
   "source": [
    "def sum_values_by_technology(df, selected_year, pe_column, ce_column, value_column):\n",
    "    # Select rows for the specified year\n",
    "    df_selected_year = df[df['sYear'] == selected_year]\n",
    "\n",
    "    # Sum values by Technology and specified columns\n",
    "    sum_by_technology = df_selected_year.groupby([pe_column, ce_column])[value_column].sum().reset_index()\n",
    "\n",
    "    return sum_by_technology"
   ]
  },
  {
   "attachments": {},
   "cell_type": "markdown",
   "metadata": {},
   "source": [
    "### **Data Preprocessing**"
   ]
  },
  {
   "attachments": {},
   "cell_type": "markdown",
   "metadata": {},
   "source": [
    "**Set Mappings**"
   ]
  },
  {
   "cell_type": "code",
   "execution_count": 4,
   "metadata": {},
   "outputs": [],
   "source": [
    "sPE = pd.read_csv(MAPPINGS_DATA_PATH + \"/sPE_mapping.csv\")\n",
    "SPE_dict = dict(zip(sPE['SPE'].values, sPE['DESCRIPTION'].values))\n",
    "\n",
    "CEPri = pd.read_csv(MAPPINGS_DATA_PATH + \"/CEPri_mapping.csv\")\n",
    "CEPri_dict = dict(zip(CEPri['SCE'].values, CEPri['Technology'].values))\n",
    "\n",
    "CESec = pd.read_csv(MAPPINGS_DATA_PATH + \"/CESec_mapping.csv\")\n",
    "CESec_dict = dict(zip(CESec['SCE'].values, CESec['Technology'].values))\n",
    "\n",
    "TE = pd.read_csv(MAPPINGS_DATA_PATH + \"/TE_mapping.csv\")\n",
    "TE_dict = dict(zip(TE['TE'].values, TE['Fuel'].values))\n",
    "\n",
    "def assign_sector(sST):\n",
    "    if sST.startswith(\"sST_DSTRA\"):\n",
    "        return \"Transportation\"\n",
    "    elif sST.startswith(\"sST_DSIND\"):\n",
    "        return \"Industry\"\n",
    "    elif sST.startswith(\"sST_DSOTH\"):\n",
    "        return \"Residential and Commercial\"\n",
    "    else:\n",
    "        return \"Other\"\n",
    "    \n",
    "ST = pd.read_csv(os.path.join(INPUT_DATA_PATH,\"sST.csv\"))\n",
    "ST[\"Sector\"] =  ST[\"sST\"].apply(assign_sector)\n",
    "ST_dict = dict(zip(ST['sST'].values, ST['Sector'].values))"
   ]
  },
  {
   "cell_type": "code",
   "execution_count": 5,
   "metadata": {},
   "outputs": [],
   "source": [
    "selected_year = \"2030\""
   ]
  },
  {
   "attachments": {},
   "cell_type": "markdown",
   "metadata": {},
   "source": [
    "# **ENERGY Sankey**"
   ]
  },
  {
   "attachments": {},
   "cell_type": "markdown",
   "metadata": {},
   "source": [
    "**PE-CEPri** / **CEPri-TE**"
   ]
  },
  {
   "cell_type": "code",
   "execution_count": 6,
   "metadata": {},
   "outputs": [],
   "source": [
    "# PE - CEPRI\n",
    "# ==========\n",
    "vQCEPriIN = pd.read_csv(os.path.join(OUTPUT_DATA_PATH,\"vQCEPriIN.csv\"))\n",
    "vQCEPriIN['DESCRIPTION'] = vQCEPriIN['sPE'].map(SPE_dict)\n",
    "vQCEPriIN['Technology'] = vQCEPriIN['sCE'].map(CEPri_dict)\n",
    "vQCEPriIN['sYear'] = vQCEPriIN['sYear'].str[1:]\n",
    "\n",
    "pe_cepri= sum_values_by_technology(vQCEPriIN, selected_year, \"DESCRIPTION\", \"Technology\", \"vQCEPriIN\")\n",
    "\n",
    "# CEPRI - TE\n",
    "# ==========\n",
    "vQCEPriOUT = pd.read_csv(os.path.join(OUTPUT_DATA_PATH,\"vQCEPriOUT.csv\"))\n",
    "vQCEPriOUT['Fuel'] = vQCEPriOUT['sTE'].map(TE_dict)\n",
    "vQCEPriOUT['Technology'] = vQCEPriOUT['sCE'].map(CEPri_dict)\n",
    "vQCEPriOUT['sYear'] = vQCEPriOUT['sYear'].str[1:]\n",
    "\n",
    "cepri_te= sum_values_by_technology(vQCEPriOUT, selected_year, \"Fuel\", \"Technology\", \"vQCEPriOUT\")"
   ]
  },
  {
   "cell_type": "code",
   "execution_count": 7,
   "metadata": {},
   "outputs": [],
   "source": [
    "# Dummies\n",
    "# =======\n",
    "pe_cepri_dummy = pe_cepri[pe_cepri[\"Technology\"].str.contains(\"Dummy\")]\n",
    "cepri_te_dummy = cepri_te[cepri_te[\"Technology\"].str.contains(\"Dummy\")]\n",
    "\n",
    "cepri_dummy = pd.merge(pe_cepri_dummy,cepri_te_dummy, on =\"Technology\")[[\"DESCRIPTION\", \"Fuel\", \"vQCEPriIN\"]]\n",
    "\n",
    "# Dummy Nodes\n",
    "cepri_dummy_nodes = list(cepri_dummy['DESCRIPTION'].values)\n",
    "cepri_dummy_nodes.extend(list(cepri_dummy['Fuel'].values))\n",
    "cepri_dummy_values = list(cepri_dummy['vQCEPriIN'].values)"
   ]
  },
  {
   "cell_type": "code",
   "execution_count": 8,
   "metadata": {},
   "outputs": [],
   "source": [
    "# No Dummies\n",
    "# ==========\n",
    "pe_cepri = pe_cepri[~pe_cepri[\"Technology\"].str.contains(\"Dummy\")]\n",
    "cepri_te = cepri_te[~cepri_te[\"Technology\"].str.contains(\"Dummy\")]\n",
    "\n",
    "# No Dummy Nodes\n",
    "pe_cepri_nodes = list(pe_cepri['DESCRIPTION'].values)\n",
    "pe_cepri_nodes.extend(list(pe_cepri['Technology'].values))\n",
    "pe_cepri_values = list(pe_cepri['vQCEPriIN'].values)\n",
    "\n",
    "cepri_te_nodes = list(cepri_te['Fuel'].values)\n",
    "cepri_te_nodes.extend(list(cepri_te['Technology'].values))\n",
    "cepri_te_values = list(cepri_te['vQCEPriOUT'].values)"
   ]
  },
  {
   "attachments": {},
   "cell_type": "markdown",
   "metadata": {},
   "source": [
    "**TE-CESec**"
   ]
  },
  {
   "cell_type": "code",
   "execution_count": 9,
   "metadata": {},
   "outputs": [],
   "source": [
    "vQCESecIn = pd.read_csv(os.path.join(OUTPUT_DATA_PATH,\"vQCESecIn.csv\"))\n",
    "vQCESecIn['Fuel'] = vQCESecIn['sTE'].map(TE_dict)\n",
    "vQCESecIn['Technology'] = vQCESecIn['sCE'].map(CESec_dict)\n",
    "vQCESecIn['sYear'] = vQCESecIn['sYear'].str[1:]\n",
    "\n",
    "te_cesec = sum_values_by_technology(vQCESecIn, selected_year, \"Technology\", \"Fuel\", \"vQCESecIN\")"
   ]
  },
  {
   "cell_type": "code",
   "execution_count": 10,
   "metadata": {},
   "outputs": [],
   "source": [
    "te_cesec_nodes = list(te_cesec['Fuel'].values)\n",
    "te_cesec_nodes.extend(list(te_cesec['Technology'].values))\n",
    "\n",
    "te_cesec_values = list(te_cesec['vQCESecIN'].values)"
   ]
  },
  {
   "attachments": {},
   "cell_type": "markdown",
   "metadata": {},
   "source": [
    "**CESec-TE**"
   ]
  },
  {
   "cell_type": "code",
   "execution_count": 11,
   "metadata": {},
   "outputs": [],
   "source": [
    "vQCESecOut = pd.read_csv(os.path.join(OUTPUT_DATA_PATH,\"vQCESecOut.csv\"))\n",
    "vQCESecOut['Fuel'] = vQCESecOut['sTE'].map(TE_dict)\n",
    "vQCESecOut['Technology'] = vQCESecOut['sCE'].map(CESec_dict)\n",
    "vQCESecOut['sYear'] = vQCESecOut['sYear'].str[1:]\n",
    "\n",
    "cesec_te = sum_values_by_technology(vQCESecOut, selected_year, \"Technology\", \"Fuel\", \"vQCESecOUT\")"
   ]
  },
  {
   "cell_type": "code",
   "execution_count": 12,
   "metadata": {},
   "outputs": [],
   "source": [
    "cesec_te_nodes = list(cesec_te['Technology'].values)\n",
    "cesec_te_nodes.extend(list(cesec_te['Fuel'].values))\n",
    "\n",
    "cesec_te_values = list(cesec_te['vQCESecOUT'].values)"
   ]
  },
  {
   "attachments": {},
   "cell_type": "markdown",
   "metadata": {},
   "source": [
    "**TE-CE_Sto**"
   ]
  },
  {
   "cell_type": "code",
   "execution_count": 13,
   "metadata": {},
   "outputs": [],
   "source": [
    "vQCEStoIn = pd.read_csv(os.path.join(OUTPUT_DATA_PATH,\"vQCEStoIn.csv\"))\n",
    "vQCEStoIn['Fuel'] = vQCEStoIn['sTE'].map(TE_dict)\n",
    "vQCEStoIn['Technology'] = vQCEStoIn['sCE'].map(CESec_dict)\n",
    "vQCEStoIn['sYear'] = vQCEStoIn['sYear'].str[1:]\n",
    "\n",
    "te_cesto = sum_values_by_technology(vQCEStoIn, selected_year, \"Technology\", \"Fuel\", \"vQCEStoIN\")"
   ]
  },
  {
   "cell_type": "code",
   "execution_count": 14,
   "metadata": {},
   "outputs": [],
   "source": [
    "te_cesto_nodes = list(te_cesto['Technology'].values)\n",
    "te_cesto_nodes.extend(list(te_cesto['Fuel'].values))\n",
    "\n",
    "te_cesto_values = list(te_cesto['vQCEStoIN'].values)"
   ]
  },
  {
   "attachments": {},
   "cell_type": "markdown",
   "metadata": {},
   "source": [
    "**CE_Sto-TE**"
   ]
  },
  {
   "cell_type": "code",
   "execution_count": 15,
   "metadata": {},
   "outputs": [],
   "source": [
    "vQCEStoOut = pd.read_csv(os.path.join(OUTPUT_DATA_PATH,\"vQCEStoOut.csv\"))\n",
    "vQCEStoOut['Fuel'] = vQCEStoOut['sTE'].map(TE_dict)\n",
    "vQCEStoOut['Technology'] = vQCEStoOut['sCE'].map(CESec_dict)\n",
    "vQCEStoOut['sYear'] = vQCEStoOut['sYear'].str[1:]\n",
    "\n",
    "cesto_te = sum_values_by_technology(vQCEStoOut, selected_year, \"Technology\", \"Fuel\", \"vQCEStoOUT\")"
   ]
  },
  {
   "cell_type": "code",
   "execution_count": 16,
   "metadata": {},
   "outputs": [],
   "source": [
    "cesto_te_nodes = list(cesto_te['Technology'].values)\n",
    "cesto_te_nodes.extend(list(cesto_te['Fuel'].values))\n",
    "\n",
    "cesto_te_values = list(cesto_te['vQCEStoOUT'].values)"
   ]
  },
  {
   "attachments": {},
   "cell_type": "markdown",
   "metadata": {},
   "source": [
    "**TE-ST**"
   ]
  },
  {
   "cell_type": "code",
   "execution_count": 17,
   "metadata": {},
   "outputs": [],
   "source": [
    "vQSTInTE = pd.read_csv(os.path.join(OUTPUT_DATA_PATH,\"vQSTInTE.csv\"))\n",
    "vQSTInTE['Fuel'] = vQSTInTE['sTE'].map(TE_dict)\n",
    "vQSTInTE['Sector'] = vQSTInTE['sST'].map(ST_dict)\n",
    "vQSTInTE['sYear'] = vQSTInTE['sYear'].str[1:]\n",
    "vQSTInTE.rename(columns={\"vQSTInTE\": \"value\"}, inplace=True)\n",
    "\n",
    "te_st = sum_values_by_technology(vQSTInTE, selected_year, \"Fuel\", \"Sector\", \"value\")"
   ]
  },
  {
   "cell_type": "code",
   "execution_count": 18,
   "metadata": {},
   "outputs": [],
   "source": [
    "te_st_nodes = list(te_st['Fuel'].values)\n",
    "te_st_nodes.extend(list(te_st['Sector'].values))\n",
    "\n",
    "te_st_values = list(te_st['value'].values)"
   ]
  },
  {
   "attachments": {},
   "cell_type": "markdown",
   "metadata": {},
   "source": [
    "### Plot Preparation"
   ]
  },
  {
   "cell_type": "code",
   "execution_count": 19,
   "metadata": {},
   "outputs": [],
   "source": [
    "node_labels = list(set(pe_cepri_nodes + cepri_te_nodes + te_cesec_nodes + cesec_te_nodes + te_cesto_nodes + cesto_te_nodes + te_st_nodes + cepri_dummy_nodes))\n",
    "link_values = pe_cepri_values + cepri_te_values + te_cesec_values + cesec_te_values + te_cesto_values + cesto_te_values + te_st_values + cepri_dummy_values"
   ]
  },
  {
   "cell_type": "code",
   "execution_count": 20,
   "metadata": {},
   "outputs": [],
   "source": [
    "link_sources = []\n",
    "link_targets = []\n",
    "\n",
    "for i in range(len(pe_cepri_values)):\n",
    "    link_sources.append(node_labels.index(list(pe_cepri['DESCRIPTION'].values)[i]))\n",
    "    link_targets.append(node_labels.index(list(pe_cepri['Technology'].values)[i]))\n",
    "\n",
    "for i in range(len(cepri_te_values)):\n",
    "    link_sources.append(node_labels.index(list(cepri_te['Technology'].values)[i]))\n",
    "    link_targets.append(node_labels.index(list(cepri_te['Fuel'].values)[i]))\n",
    "\n",
    "for i in range(len(te_cesec_values)):\n",
    "    link_sources.append(node_labels.index(list(te_cesec['Fuel'].values)[i]))\n",
    "    link_targets.append(node_labels.index(list(te_cesec['Technology'].values)[i]))\n",
    "\n",
    "for i in range(len(cesec_te_values)):\n",
    "    link_sources.append(node_labels.index(list(cesec_te['Technology'].values)[i]))\n",
    "    link_targets.append(node_labels.index(list(cesec_te['Fuel'].values)[i]))\n",
    "\n",
    "for i in range(len(te_cesto_values)):\n",
    "    link_sources.append(node_labels.index(list(te_cesto['Fuel'].values)[i]))\n",
    "    link_targets.append(node_labels.index(list(te_cesto['Technology'].values)[i]))\n",
    "\n",
    "for i in range(len(cesto_te_values)):\n",
    "    link_sources.append(node_labels.index(list(cesto_te['Technology'].values)[i]))\n",
    "    link_targets.append(node_labels.index(list(cesto_te['Fuel'].values)[i]))\n",
    "\n",
    "for i in range(len(te_st_values)):\n",
    "    link_sources.append(node_labels.index(list(te_st['Fuel'].values)[i]))\n",
    "    link_targets.append(node_labels.index(list(te_st['Sector'].values)[i]))\n",
    "\n",
    "for i in range(len(cepri_dummy_values)):\n",
    "    link_sources.append(node_labels.index(list(cepri_dummy['DESCRIPTION'].values)[i]))\n",
    "    link_targets.append(node_labels.index(list(cepri_dummy['Fuel'].values)[i]))"
   ]
  },
  {
   "cell_type": "code",
   "execution_count": 21,
   "metadata": {},
   "outputs": [],
   "source": [
    "red_mappings= list(SPE_dict.values()) + list(TE_dict.values())\n",
    "node_colors = ['rgba(255,0,0,0.8)' if node in red_mappings else 'rgba(0,255,0,0.8)' for node in node_labels]"
   ]
  },
  {
   "cell_type": "code",
   "execution_count": 22,
   "metadata": {},
   "outputs": [],
   "source": [
    "node_colors = node_colors.copy()\n",
    "link_colors = [\"rgba(0,0,96,0.2)\"] * len(link_values)\n",
    "link_labels = [\"\"] * len(link_values)\n",
    "\n",
    "sankey_data = {}\n",
    "sankey_data['node_labels'] = node_labels\n",
    "sankey_data['node_colors'] = node_colors\n",
    "sankey_data['link_sources'] = link_sources\n",
    "sankey_data['link_targets'] = link_targets\n",
    "sankey_data['link_values'] = link_values\n",
    "sankey_data['link_colors'] = link_colors\n",
    "sankey_data['link_labels'] = link_labels"
   ]
  },
  {
   "cell_type": "code",
   "execution_count": 23,
   "metadata": {},
   "outputs": [],
   "source": [
    "import json\n",
    "with open('sankey_data.json', 'w') as f:\n",
    "    json.dump(sankey_data, f)"
   ]
  },
  {
   "attachments": {},
   "cell_type": "markdown",
   "metadata": {},
   "source": [
    "### **Plot**"
   ]
  },
  {
   "cell_type": "code",
   "execution_count": 24,
   "metadata": {},
   "outputs": [
    {
     "data": {
      "application/vnd.plotly.v1+json": {
       "config": {
        "plotlyServerURL": "https://plot.ly"
       },
       "data": [
        {
         "link": {
          "color": [
           "rgba(0,0,96,0.2)",
           "rgba(0,0,96,0.2)",
           "rgba(0,0,96,0.2)",
           "rgba(0,0,96,0.2)",
           "rgba(0,0,96,0.2)",
           "rgba(0,0,96,0.2)",
           "rgba(0,0,96,0.2)",
           "rgba(0,0,96,0.2)",
           "rgba(0,0,96,0.2)",
           "rgba(0,0,96,0.2)",
           "rgba(0,0,96,0.2)",
           "rgba(0,0,96,0.2)",
           "rgba(0,0,96,0.2)",
           "rgba(0,0,96,0.2)",
           "rgba(0,0,96,0.2)",
           "rgba(0,0,96,0.2)",
           "rgba(0,0,96,0.2)",
           "rgba(0,0,96,0.2)",
           "rgba(0,0,96,0.2)",
           "rgba(0,0,96,0.2)",
           "rgba(0,0,96,0.2)",
           "rgba(0,0,96,0.2)",
           "rgba(0,0,96,0.2)",
           "rgba(0,0,96,0.2)",
           "rgba(0,0,96,0.2)",
           "rgba(0,0,96,0.2)",
           "rgba(0,0,96,0.2)",
           "rgba(0,0,96,0.2)",
           "rgba(0,0,96,0.2)",
           "rgba(0,0,96,0.2)",
           "rgba(0,0,96,0.2)",
           "rgba(0,0,96,0.2)",
           "rgba(0,0,96,0.2)",
           "rgba(0,0,96,0.2)",
           "rgba(0,0,96,0.2)",
           "rgba(0,0,96,0.2)",
           "rgba(0,0,96,0.2)",
           "rgba(0,0,96,0.2)",
           "rgba(0,0,96,0.2)",
           "rgba(0,0,96,0.2)",
           "rgba(0,0,96,0.2)",
           "rgba(0,0,96,0.2)",
           "rgba(0,0,96,0.2)",
           "rgba(0,0,96,0.2)",
           "rgba(0,0,96,0.2)",
           "rgba(0,0,96,0.2)",
           "rgba(0,0,96,0.2)",
           "rgba(0,0,96,0.2)",
           "rgba(0,0,96,0.2)",
           "rgba(0,0,96,0.2)",
           "rgba(0,0,96,0.2)",
           "rgba(0,0,96,0.2)",
           "rgba(0,0,96,0.2)",
           "rgba(0,0,96,0.2)",
           "rgba(0,0,96,0.2)",
           "rgba(0,0,96,0.2)",
           "rgba(0,0,96,0.2)",
           "rgba(0,0,96,0.2)",
           "rgba(0,0,96,0.2)",
           "rgba(0,0,96,0.2)",
           "rgba(0,0,96,0.2)",
           "rgba(0,0,96,0.2)",
           "rgba(0,0,96,0.2)",
           "rgba(0,0,96,0.2)",
           "rgba(0,0,96,0.2)",
           "rgba(0,0,96,0.2)",
           "rgba(0,0,96,0.2)"
          ],
          "label": [
           "",
           "",
           "",
           "",
           "",
           "",
           "",
           "",
           "",
           "",
           "",
           "",
           "",
           "",
           "",
           "",
           "",
           "",
           "",
           "",
           "",
           "",
           "",
           "",
           "",
           "",
           "",
           "",
           "",
           "",
           "",
           "",
           "",
           "",
           "",
           "",
           "",
           "",
           "",
           "",
           "",
           "",
           "",
           "",
           "",
           "",
           "",
           "",
           "",
           "",
           "",
           "",
           "",
           "",
           "",
           "",
           "",
           "",
           "",
           "",
           "",
           "",
           "",
           "",
           "",
           "",
           ""
          ],
          "source": [
           29,
           33,
           34,
           8,
           42,
           11,
           25,
           4,
           39,
           15,
           30,
           30,
           16,
           13,
           13,
           24,
           24,
           28,
           18,
           0,
           40,
           27,
           3,
           21,
           9,
           31,
           28,
           28,
           28,
           28,
           6,
           28,
           23,
           36,
           23,
           14,
           23,
           7,
           10,
           2,
           22,
           37,
           38,
           5,
           36,
           36,
           43,
           41,
           41,
           22,
           22,
           22,
           14,
           14,
           44,
           19,
           20,
           20,
           20,
           23,
           23,
           23,
           29,
           42,
           11,
           4,
           1
          ],
          "target": [
           18,
           24,
           28,
           28,
           18,
           18,
           40,
           0,
           6,
           27,
           3,
           21,
           18,
           9,
           31,
           38,
           5,
           41,
           22,
           22,
           22,
           22,
           22,
           22,
           22,
           22,
           14,
           44,
           19,
           20,
           23,
           35,
           7,
           26,
           26,
           10,
           2,
           22,
           22,
           22,
           37,
           22,
           17,
           17,
           12,
           32,
           12,
           32,
           17,
           12,
           32,
           17,
           12,
           17,
           17,
           17,
           12,
           32,
           17,
           12,
           32,
           17,
           36,
           36,
           36,
           43,
           23
          ],
          "value": [
           0,
           0,
           0,
           144528.1770363331,
           0,
           0,
           0,
           0,
           235229.63075967017,
           0,
           74743.99380081319,
           0,
           0,
           0,
           83784.11083454815,
           0,
           0,
           72885.28701617855,
           0,
           0,
           0,
           0,
           74743.99380081319,
           0,
           0,
           83784.11083454815,
           13441.120464378979,
           28042.411953460716,
           12607.527120559354,
           7337.772942737535,
           232877.33445207347,
           97.08514647463998,
           52249.98334356904,
           0,
           0,
           0,
           2203.7387915802155,
           30304.99033927004,
           0,
           991.682456211097,
           7791.265240325054,
           5453.885668227538,
           0,
           0,
           19810.191250883905,
           7465.3717557044,
           63327.846569377856,
           0,
           72885.28701617855,
           22194.82535637639,
           130488.43209292207,
           15276.274099539502,
           1997.544079989718,
           0,
           27892.953476685903,
           12469.700426116977,
           542.7615137755344,
           3481.165456722133,
           0,
           24472.358552260062,
           176757.9618566756,
           91073.29190798855,
           10686.422404924562,
           1697.1406016637416,
           14892,
           63327.846569377856,
           113880
          ]
         },
         "node": {
          "color": [
           "rgba(0,255,0,0.8)",
           "rgba(255,0,0,0.8)",
           "rgba(0,255,0,0.8)",
           "rgba(0,255,0,0.8)",
           "rgba(255,0,0,0.8)",
           "rgba(255,0,0,0.8)",
           "rgba(0,255,0,0.8)",
           "rgba(0,255,0,0.8)",
           "rgba(255,0,0,0.8)",
           "rgba(0,255,0,0.8)",
           "rgba(0,255,0,0.8)",
           "rgba(255,0,0,0.8)",
           "rgba(0,255,0,0.8)",
           "rgba(255,0,0,0.8)",
           "rgba(255,0,0,0.8)",
           "rgba(255,0,0,0.8)",
           "rgba(255,0,0,0.8)",
           "rgba(0,255,0,0.8)",
           "rgba(0,255,0,0.8)",
           "rgba(255,0,0,0.8)",
           "rgba(255,0,0,0.8)",
           "rgba(0,255,0,0.8)",
           "rgba(255,0,0,0.8)",
           "rgba(255,0,0,0.8)",
           "rgba(0,255,0,0.8)",
           "rgba(255,0,0,0.8)",
           "rgba(0,255,0,0.8)",
           "rgba(0,255,0,0.8)",
           "rgba(0,255,0,0.8)",
           "rgba(255,0,0,0.8)",
           "rgba(255,0,0,0.8)",
           "rgba(0,255,0,0.8)",
           "rgba(0,255,0,0.8)",
           "rgba(255,0,0,0.8)",
           "rgba(255,0,0,0.8)",
           "rgba(255,0,0,0.8)",
           "rgba(255,0,0,0.8)",
           "rgba(0,255,0,0.8)",
           "rgba(255,0,0,0.8)",
           "rgba(255,0,0,0.8)",
           "rgba(0,255,0,0.8)",
           "rgba(255,0,0,0.8)",
           "rgba(255,0,0,0.8)",
           "rgba(255,0,0,0.8)",
           "rgba(255,0,0,0.8)"
          ],
          "label": [
           "Coal Plants",
           "Natural Gas_Pipeline",
           "OCGT",
           "Solar PV",
           "Imported Coal",
           "Bioethanol",
           "Regasification",
           "CCGT",
           "Crude Oil",
           "Wind Offshore",
           "Fuel Oil Plant",
           "Forestry Waste",
           "Industry",
           "Wind",
           "Fuel Oil",
           "Nuclear",
           "Solid Waste",
           "Transportation",
           "Biomass Plant",
           "Kerosene",
           "LPG",
           "Thermosolar",
           "Electricity",
           "Natural Gas",
           "Biofuel Production Plants",
           "Hydro",
           "CHP",
           "Nuclear Plant",
           "Refinery",
           "Agriculture Waste",
           "Solar",
           "Wind Onshore",
           "Residential and Commercial",
           "Biofuels",
           "Biogas",
           "Other Oil Products",
           "Biomass",
           "Pumping Storage",
           "Biodiesel",
           "LNG",
           "Hydroelectric Generation",
           "Diesel",
           "Energy Crops",
           "Coal",
           "Gasoline"
          ],
          "line": {
           "color": "black",
           "width": 0.5
          },
          "pad": 15,
          "thickness": 20
         },
         "type": "sankey",
         "valueformat": ".0f",
         "valuesuffix": "TWh"
        }
       ],
       "layout": {
        "font": {
         "color": "black",
         "family": "Arial",
         "size": 10
        },
        "hovermode": "x",
        "paper_bgcolor": "white",
        "plot_bgcolor": "white",
        "template": {
         "data": {
          "bar": [
           {
            "error_x": {
             "color": "#2a3f5f"
            },
            "error_y": {
             "color": "#2a3f5f"
            },
            "marker": {
             "line": {
              "color": "#E5ECF6",
              "width": 0.5
             },
             "pattern": {
              "fillmode": "overlay",
              "size": 10,
              "solidity": 0.2
             }
            },
            "type": "bar"
           }
          ],
          "barpolar": [
           {
            "marker": {
             "line": {
              "color": "#E5ECF6",
              "width": 0.5
             },
             "pattern": {
              "fillmode": "overlay",
              "size": 10,
              "solidity": 0.2
             }
            },
            "type": "barpolar"
           }
          ],
          "carpet": [
           {
            "aaxis": {
             "endlinecolor": "#2a3f5f",
             "gridcolor": "white",
             "linecolor": "white",
             "minorgridcolor": "white",
             "startlinecolor": "#2a3f5f"
            },
            "baxis": {
             "endlinecolor": "#2a3f5f",
             "gridcolor": "white",
             "linecolor": "white",
             "minorgridcolor": "white",
             "startlinecolor": "#2a3f5f"
            },
            "type": "carpet"
           }
          ],
          "choropleth": [
           {
            "colorbar": {
             "outlinewidth": 0,
             "ticks": ""
            },
            "type": "choropleth"
           }
          ],
          "contour": [
           {
            "colorbar": {
             "outlinewidth": 0,
             "ticks": ""
            },
            "colorscale": [
             [
              0,
              "#0d0887"
             ],
             [
              0.1111111111111111,
              "#46039f"
             ],
             [
              0.2222222222222222,
              "#7201a8"
             ],
             [
              0.3333333333333333,
              "#9c179e"
             ],
             [
              0.4444444444444444,
              "#bd3786"
             ],
             [
              0.5555555555555556,
              "#d8576b"
             ],
             [
              0.6666666666666666,
              "#ed7953"
             ],
             [
              0.7777777777777778,
              "#fb9f3a"
             ],
             [
              0.8888888888888888,
              "#fdca26"
             ],
             [
              1,
              "#f0f921"
             ]
            ],
            "type": "contour"
           }
          ],
          "contourcarpet": [
           {
            "colorbar": {
             "outlinewidth": 0,
             "ticks": ""
            },
            "type": "contourcarpet"
           }
          ],
          "heatmap": [
           {
            "colorbar": {
             "outlinewidth": 0,
             "ticks": ""
            },
            "colorscale": [
             [
              0,
              "#0d0887"
             ],
             [
              0.1111111111111111,
              "#46039f"
             ],
             [
              0.2222222222222222,
              "#7201a8"
             ],
             [
              0.3333333333333333,
              "#9c179e"
             ],
             [
              0.4444444444444444,
              "#bd3786"
             ],
             [
              0.5555555555555556,
              "#d8576b"
             ],
             [
              0.6666666666666666,
              "#ed7953"
             ],
             [
              0.7777777777777778,
              "#fb9f3a"
             ],
             [
              0.8888888888888888,
              "#fdca26"
             ],
             [
              1,
              "#f0f921"
             ]
            ],
            "type": "heatmap"
           }
          ],
          "heatmapgl": [
           {
            "colorbar": {
             "outlinewidth": 0,
             "ticks": ""
            },
            "colorscale": [
             [
              0,
              "#0d0887"
             ],
             [
              0.1111111111111111,
              "#46039f"
             ],
             [
              0.2222222222222222,
              "#7201a8"
             ],
             [
              0.3333333333333333,
              "#9c179e"
             ],
             [
              0.4444444444444444,
              "#bd3786"
             ],
             [
              0.5555555555555556,
              "#d8576b"
             ],
             [
              0.6666666666666666,
              "#ed7953"
             ],
             [
              0.7777777777777778,
              "#fb9f3a"
             ],
             [
              0.8888888888888888,
              "#fdca26"
             ],
             [
              1,
              "#f0f921"
             ]
            ],
            "type": "heatmapgl"
           }
          ],
          "histogram": [
           {
            "marker": {
             "pattern": {
              "fillmode": "overlay",
              "size": 10,
              "solidity": 0.2
             }
            },
            "type": "histogram"
           }
          ],
          "histogram2d": [
           {
            "colorbar": {
             "outlinewidth": 0,
             "ticks": ""
            },
            "colorscale": [
             [
              0,
              "#0d0887"
             ],
             [
              0.1111111111111111,
              "#46039f"
             ],
             [
              0.2222222222222222,
              "#7201a8"
             ],
             [
              0.3333333333333333,
              "#9c179e"
             ],
             [
              0.4444444444444444,
              "#bd3786"
             ],
             [
              0.5555555555555556,
              "#d8576b"
             ],
             [
              0.6666666666666666,
              "#ed7953"
             ],
             [
              0.7777777777777778,
              "#fb9f3a"
             ],
             [
              0.8888888888888888,
              "#fdca26"
             ],
             [
              1,
              "#f0f921"
             ]
            ],
            "type": "histogram2d"
           }
          ],
          "histogram2dcontour": [
           {
            "colorbar": {
             "outlinewidth": 0,
             "ticks": ""
            },
            "colorscale": [
             [
              0,
              "#0d0887"
             ],
             [
              0.1111111111111111,
              "#46039f"
             ],
             [
              0.2222222222222222,
              "#7201a8"
             ],
             [
              0.3333333333333333,
              "#9c179e"
             ],
             [
              0.4444444444444444,
              "#bd3786"
             ],
             [
              0.5555555555555556,
              "#d8576b"
             ],
             [
              0.6666666666666666,
              "#ed7953"
             ],
             [
              0.7777777777777778,
              "#fb9f3a"
             ],
             [
              0.8888888888888888,
              "#fdca26"
             ],
             [
              1,
              "#f0f921"
             ]
            ],
            "type": "histogram2dcontour"
           }
          ],
          "mesh3d": [
           {
            "colorbar": {
             "outlinewidth": 0,
             "ticks": ""
            },
            "type": "mesh3d"
           }
          ],
          "parcoords": [
           {
            "line": {
             "colorbar": {
              "outlinewidth": 0,
              "ticks": ""
             }
            },
            "type": "parcoords"
           }
          ],
          "pie": [
           {
            "automargin": true,
            "type": "pie"
           }
          ],
          "scatter": [
           {
            "fillpattern": {
             "fillmode": "overlay",
             "size": 10,
             "solidity": 0.2
            },
            "type": "scatter"
           }
          ],
          "scatter3d": [
           {
            "line": {
             "colorbar": {
              "outlinewidth": 0,
              "ticks": ""
             }
            },
            "marker": {
             "colorbar": {
              "outlinewidth": 0,
              "ticks": ""
             }
            },
            "type": "scatter3d"
           }
          ],
          "scattercarpet": [
           {
            "marker": {
             "colorbar": {
              "outlinewidth": 0,
              "ticks": ""
             }
            },
            "type": "scattercarpet"
           }
          ],
          "scattergeo": [
           {
            "marker": {
             "colorbar": {
              "outlinewidth": 0,
              "ticks": ""
             }
            },
            "type": "scattergeo"
           }
          ],
          "scattergl": [
           {
            "marker": {
             "colorbar": {
              "outlinewidth": 0,
              "ticks": ""
             }
            },
            "type": "scattergl"
           }
          ],
          "scattermapbox": [
           {
            "marker": {
             "colorbar": {
              "outlinewidth": 0,
              "ticks": ""
             }
            },
            "type": "scattermapbox"
           }
          ],
          "scatterpolar": [
           {
            "marker": {
             "colorbar": {
              "outlinewidth": 0,
              "ticks": ""
             }
            },
            "type": "scatterpolar"
           }
          ],
          "scatterpolargl": [
           {
            "marker": {
             "colorbar": {
              "outlinewidth": 0,
              "ticks": ""
             }
            },
            "type": "scatterpolargl"
           }
          ],
          "scatterternary": [
           {
            "marker": {
             "colorbar": {
              "outlinewidth": 0,
              "ticks": ""
             }
            },
            "type": "scatterternary"
           }
          ],
          "surface": [
           {
            "colorbar": {
             "outlinewidth": 0,
             "ticks": ""
            },
            "colorscale": [
             [
              0,
              "#0d0887"
             ],
             [
              0.1111111111111111,
              "#46039f"
             ],
             [
              0.2222222222222222,
              "#7201a8"
             ],
             [
              0.3333333333333333,
              "#9c179e"
             ],
             [
              0.4444444444444444,
              "#bd3786"
             ],
             [
              0.5555555555555556,
              "#d8576b"
             ],
             [
              0.6666666666666666,
              "#ed7953"
             ],
             [
              0.7777777777777778,
              "#fb9f3a"
             ],
             [
              0.8888888888888888,
              "#fdca26"
             ],
             [
              1,
              "#f0f921"
             ]
            ],
            "type": "surface"
           }
          ],
          "table": [
           {
            "cells": {
             "fill": {
              "color": "#EBF0F8"
             },
             "line": {
              "color": "white"
             }
            },
            "header": {
             "fill": {
              "color": "#C8D4E3"
             },
             "line": {
              "color": "white"
             }
            },
            "type": "table"
           }
          ]
         },
         "layout": {
          "annotationdefaults": {
           "arrowcolor": "#2a3f5f",
           "arrowhead": 0,
           "arrowwidth": 1
          },
          "autotypenumbers": "strict",
          "coloraxis": {
           "colorbar": {
            "outlinewidth": 0,
            "ticks": ""
           }
          },
          "colorscale": {
           "diverging": [
            [
             0,
             "#8e0152"
            ],
            [
             0.1,
             "#c51b7d"
            ],
            [
             0.2,
             "#de77ae"
            ],
            [
             0.3,
             "#f1b6da"
            ],
            [
             0.4,
             "#fde0ef"
            ],
            [
             0.5,
             "#f7f7f7"
            ],
            [
             0.6,
             "#e6f5d0"
            ],
            [
             0.7,
             "#b8e186"
            ],
            [
             0.8,
             "#7fbc41"
            ],
            [
             0.9,
             "#4d9221"
            ],
            [
             1,
             "#276419"
            ]
           ],
           "sequential": [
            [
             0,
             "#0d0887"
            ],
            [
             0.1111111111111111,
             "#46039f"
            ],
            [
             0.2222222222222222,
             "#7201a8"
            ],
            [
             0.3333333333333333,
             "#9c179e"
            ],
            [
             0.4444444444444444,
             "#bd3786"
            ],
            [
             0.5555555555555556,
             "#d8576b"
            ],
            [
             0.6666666666666666,
             "#ed7953"
            ],
            [
             0.7777777777777778,
             "#fb9f3a"
            ],
            [
             0.8888888888888888,
             "#fdca26"
            ],
            [
             1,
             "#f0f921"
            ]
           ],
           "sequentialminus": [
            [
             0,
             "#0d0887"
            ],
            [
             0.1111111111111111,
             "#46039f"
            ],
            [
             0.2222222222222222,
             "#7201a8"
            ],
            [
             0.3333333333333333,
             "#9c179e"
            ],
            [
             0.4444444444444444,
             "#bd3786"
            ],
            [
             0.5555555555555556,
             "#d8576b"
            ],
            [
             0.6666666666666666,
             "#ed7953"
            ],
            [
             0.7777777777777778,
             "#fb9f3a"
            ],
            [
             0.8888888888888888,
             "#fdca26"
            ],
            [
             1,
             "#f0f921"
            ]
           ]
          },
          "colorway": [
           "#636efa",
           "#EF553B",
           "#00cc96",
           "#ab63fa",
           "#FFA15A",
           "#19d3f3",
           "#FF6692",
           "#B6E880",
           "#FF97FF",
           "#FECB52"
          ],
          "font": {
           "color": "#2a3f5f"
          },
          "geo": {
           "bgcolor": "white",
           "lakecolor": "white",
           "landcolor": "#E5ECF6",
           "showlakes": true,
           "showland": true,
           "subunitcolor": "white"
          },
          "hoverlabel": {
           "align": "left"
          },
          "hovermode": "closest",
          "mapbox": {
           "style": "light"
          },
          "paper_bgcolor": "white",
          "plot_bgcolor": "#E5ECF6",
          "polar": {
           "angularaxis": {
            "gridcolor": "white",
            "linecolor": "white",
            "ticks": ""
           },
           "bgcolor": "#E5ECF6",
           "radialaxis": {
            "gridcolor": "white",
            "linecolor": "white",
            "ticks": ""
           }
          },
          "scene": {
           "xaxis": {
            "backgroundcolor": "#E5ECF6",
            "gridcolor": "white",
            "gridwidth": 2,
            "linecolor": "white",
            "showbackground": true,
            "ticks": "",
            "zerolinecolor": "white"
           },
           "yaxis": {
            "backgroundcolor": "#E5ECF6",
            "gridcolor": "white",
            "gridwidth": 2,
            "linecolor": "white",
            "showbackground": true,
            "ticks": "",
            "zerolinecolor": "white"
           },
           "zaxis": {
            "backgroundcolor": "#E5ECF6",
            "gridcolor": "white",
            "gridwidth": 2,
            "linecolor": "white",
            "showbackground": true,
            "ticks": "",
            "zerolinecolor": "white"
           }
          },
          "shapedefaults": {
           "line": {
            "color": "#2a3f5f"
           }
          },
          "ternary": {
           "aaxis": {
            "gridcolor": "white",
            "linecolor": "white",
            "ticks": ""
           },
           "baxis": {
            "gridcolor": "white",
            "linecolor": "white",
            "ticks": ""
           },
           "bgcolor": "#E5ECF6",
           "caxis": {
            "gridcolor": "white",
            "linecolor": "white",
            "ticks": ""
           }
          },
          "title": {
           "x": 0.05
          },
          "xaxis": {
           "automargin": true,
           "gridcolor": "white",
           "linecolor": "white",
           "ticks": "",
           "title": {
            "standoff": 15
           },
           "zerolinecolor": "white",
           "zerolinewidth": 2
          },
          "yaxis": {
           "automargin": true,
           "gridcolor": "white",
           "linecolor": "white",
           "ticks": "",
           "title": {
            "standoff": 15
           },
           "zerolinecolor": "white",
           "zerolinewidth": 2
          }
         }
        },
        "title": {
         "text": ""
        }
       }
      }
     },
     "metadata": {},
     "output_type": "display_data"
    }
   ],
   "source": [
    "create_sankey_diagram(link_sources, link_targets, link_values, node_labels, link_labels, node_colors, link_colors)"
   ]
  },
  {
   "attachments": {},
   "cell_type": "markdown",
   "metadata": {},
   "source": [
    "# **Emissions Sankey**"
   ]
  },
  {
   "attachments": {},
   "cell_type": "markdown",
   "metadata": {},
   "source": [
    "**PE-CEPri**"
   ]
  },
  {
   "cell_type": "code",
   "execution_count": 25,
   "metadata": {},
   "outputs": [],
   "source": [
    "# PE - CEPRI\n",
    "# ==========\n",
    "vEmiCO2CEPri = pd.read_csv(os.path.join(OUTPUT_DATA_PATH,\"vEmiCO2CEPri.csv\"))\n",
    "vEmiCO2CEPri['DESCRIPTION'] = vEmiCO2CEPri['sPE'].map(SPE_dict)\n",
    "vEmiCO2CEPri['Technology'] = vEmiCO2CEPri['sCE'].map(CEPri_dict)\n",
    "vEmiCO2CEPri['sYear'] = vEmiCO2CEPri['sYear'].str[1:]\n",
    "\n",
    "selected_year = \"2020\"\n",
    "pe_cepri= sum_values_by_technology(vEmiCO2CEPri, selected_year, \"DESCRIPTION\", \"Technology\", \"vEmiCO2CEPri\")"
   ]
  },
  {
   "cell_type": "code",
   "execution_count": 26,
   "metadata": {},
   "outputs": [],
   "source": [
    "pe_cepri_nodes = list(pe_cepri['DESCRIPTION'].values)\n",
    "pe_cepri_nodes.extend(list(pe_cepri['Technology'].values))\n",
    "pe_cepri_values = list(pe_cepri['vEmiCO2CEPri'].values)"
   ]
  },
  {
   "attachments": {},
   "cell_type": "markdown",
   "metadata": {},
   "source": [
    "**TE-CESec**"
   ]
  },
  {
   "cell_type": "code",
   "execution_count": 27,
   "metadata": {},
   "outputs": [],
   "source": [
    "vEmiCO2CESec = pd.read_csv(os.path.join(OUTPUT_DATA_PATH,\"vEmiCO2CESec.csv\"))\n",
    "vEmiCO2CESec['Fuel'] = vEmiCO2CESec['sTE'].map(TE_dict)\n",
    "vEmiCO2CESec['Technology'] = vEmiCO2CESec['sCE'].map(CESec_dict)\n",
    "vEmiCO2CESec['sYear'] = vEmiCO2CESec['sYear'].str[1:]\n",
    "\n",
    "te_cesec = sum_values_by_technology(vEmiCO2CESec, selected_year, \"Technology\", \"Fuel\", \"vEmiCO2CESec\")"
   ]
  },
  {
   "cell_type": "code",
   "execution_count": 28,
   "metadata": {},
   "outputs": [],
   "source": [
    "te_cesec_nodes = list(te_cesec['Fuel'].values)\n",
    "te_cesec_nodes.extend(list(te_cesec['Technology'].values))\n",
    "\n",
    "te_cesec_values = list(te_cesec['vEmiCO2CESec'].values)"
   ]
  },
  {
   "attachments": {},
   "cell_type": "markdown",
   "metadata": {},
   "source": [
    "**TE-CE_Sto**"
   ]
  },
  {
   "cell_type": "code",
   "execution_count": 29,
   "metadata": {},
   "outputs": [],
   "source": [
    "vEmiCO2CESto = pd.read_csv(os.path.join(OUTPUT_DATA_PATH,\"vEmiCO2CESto.csv\"))\n",
    "vEmiCO2CESto['Fuel'] = vEmiCO2CESto['sTE'].map(TE_dict)\n",
    "vEmiCO2CESto['Technology'] = vEmiCO2CESto['sCE'].map(CESec_dict)\n",
    "vEmiCO2CESto['sYear'] = vEmiCO2CESto['sYear'].str[1:]\n",
    "\n",
    "te_cesto = sum_values_by_technology(vEmiCO2CESto, selected_year, \"Technology\", \"Fuel\", \"vEmiCO2CESto\")"
   ]
  },
  {
   "cell_type": "code",
   "execution_count": 30,
   "metadata": {},
   "outputs": [],
   "source": [
    "te_cesto_nodes = list(te_cesto['Technology'].values)\n",
    "te_cesto_nodes.extend(list(te_cesto['Fuel'].values))\n",
    "\n",
    "te_cesto_values = list(te_cesto['vEmiCO2CESto'].values)"
   ]
  },
  {
   "attachments": {},
   "cell_type": "markdown",
   "metadata": {},
   "source": [
    "**TE-ST**"
   ]
  },
  {
   "cell_type": "code",
   "execution_count": null,
   "metadata": {},
   "outputs": [],
   "source": []
  },
  {
   "attachments": {},
   "cell_type": "markdown",
   "metadata": {},
   "source": [
    "### Plot Preparation"
   ]
  },
  {
   "cell_type": "code",
   "execution_count": 31,
   "metadata": {},
   "outputs": [],
   "source": [
    "node_labels = list(set(pe_cepri_nodes + te_cesec_nodes + te_cesto_nodes))\n",
    "link_values = pe_cepri_values + te_cesec_values + te_cesto_values"
   ]
  },
  {
   "cell_type": "code",
   "execution_count": 32,
   "metadata": {},
   "outputs": [],
   "source": [
    "link_sources = []\n",
    "link_targets = []\n",
    "\n",
    "for i in range(len(pe_cepri_values)):\n",
    "    link_sources.append(node_labels.index(list(pe_cepri['DESCRIPTION'].values)[i]))\n",
    "    link_targets.append(node_labels.index(list(pe_cepri['Technology'].values)[i]))\n",
    "\n",
    "for i in range(len(te_cesec_values)):\n",
    "    link_sources.append(node_labels.index(list(te_cesec['Fuel'].values)[i]))\n",
    "    link_targets.append(node_labels.index(list(te_cesec['Technology'].values)[i]))\n",
    "\n",
    "for i in range(len(te_cesto_values)):\n",
    "    link_sources.append(node_labels.index(list(te_cesto['Fuel'].values)[i]))\n",
    "    link_targets.append(node_labels.index(list(te_cesto['Technology'].values)[i]))"
   ]
  },
  {
   "cell_type": "code",
   "execution_count": 33,
   "metadata": {},
   "outputs": [],
   "source": [
    "red_mappings= list(SPE_dict.values()) + list(TE_dict.values())\n",
    "node_colors = ['rgba(255,0,0,0.8)' if node in red_mappings else 'rgba(0,255,0,0.8)' for node in node_labels]"
   ]
  },
  {
   "cell_type": "code",
   "execution_count": 34,
   "metadata": {},
   "outputs": [],
   "source": [
    "node_colors = node_colors.copy()\n",
    "link_colors = [\"rgba(0,0,96,0.2)\"] * len(link_values)\n",
    "link_labels = [\"\"] * len(link_values)\n",
    "\n",
    "sankey_data = {}\n",
    "sankey_data['node_labels'] = node_labels\n",
    "sankey_data['node_colors'] = node_colors\n",
    "sankey_data['link_sources'] = link_sources\n",
    "sankey_data['link_targets'] = link_targets\n",
    "sankey_data['link_values'] = link_values\n",
    "sankey_data['link_colors'] = link_colors\n",
    "sankey_data['link_labels'] = link_labels"
   ]
  },
  {
   "cell_type": "code",
   "execution_count": 35,
   "metadata": {},
   "outputs": [
    {
     "data": {
      "application/vnd.plotly.v1+json": {
       "config": {
        "plotlyServerURL": "https://plot.ly"
       },
       "data": [
        {
         "link": {
          "color": [
           "rgba(0,0,96,0.2)",
           "rgba(0,0,96,0.2)",
           "rgba(0,0,96,0.2)",
           "rgba(0,0,96,0.2)",
           "rgba(0,0,96,0.2)",
           "rgba(0,0,96,0.2)",
           "rgba(0,0,96,0.2)",
           "rgba(0,0,96,0.2)",
           "rgba(0,0,96,0.2)",
           "rgba(0,0,96,0.2)",
           "rgba(0,0,96,0.2)",
           "rgba(0,0,96,0.2)",
           "rgba(0,0,96,0.2)",
           "rgba(0,0,96,0.2)",
           "rgba(0,0,96,0.2)",
           "rgba(0,0,96,0.2)",
           "rgba(0,0,96,0.2)",
           "rgba(0,0,96,0.2)",
           "rgba(0,0,96,0.2)",
           "rgba(0,0,96,0.2)",
           "rgba(0,0,96,0.2)",
           "rgba(0,0,96,0.2)",
           "rgba(0,0,96,0.2)",
           "rgba(0,0,96,0.2)",
           "rgba(0,0,96,0.2)",
           "rgba(0,0,96,0.2)"
          ],
          "label": [
           "",
           "",
           "",
           "",
           "",
           "",
           "",
           "",
           "",
           "",
           "",
           "",
           "",
           "",
           "",
           "",
           "",
           "",
           "",
           "",
           "",
           "",
           "",
           "",
           "",
           ""
          ],
          "source": [
           27,
           27,
           30,
           31,
           9,
           36,
           36,
           12,
           12,
           23,
           4,
           4,
           34,
           1,
           15,
           28,
           28,
           16,
           13,
           13,
           21,
           32,
           21,
           14,
           21,
           20
          ],
          "target": [
           18,
           5,
           22,
           26,
           26,
           18,
           5,
           18,
           5,
           35,
           0,
           6,
           7,
           17,
           25,
           3,
           19,
           18,
           10,
           29,
           8,
           24,
           24,
           11,
           2,
           33
          ],
          "value": [
           0,
           0,
           0,
           0,
           0,
           0,
           0,
           0,
           0,
           0,
           0,
           0,
           0,
           0,
           0,
           0,
           0,
           0,
           0,
           0,
           18245.104945877614,
           0,
           0,
           9165.779334123228,
           762.5708656062077,
           0
          ]
         },
         "node": {
          "color": [
           "rgba(0,255,0,0.8)",
           "rgba(255,0,0,0.8)",
           "rgba(0,255,0,0.8)",
           "rgba(0,255,0,0.8)",
           "rgba(255,0,0,0.8)",
           "rgba(0,255,0,0.8)",
           "rgba(0,255,0,0.8)",
           "rgba(0,255,0,0.8)",
           "rgba(0,255,0,0.8)",
           "rgba(255,0,0,0.8)",
           "rgba(0,255,0,0.8)",
           "rgba(0,255,0,0.8)",
           "rgba(255,0,0,0.8)",
           "rgba(255,0,0,0.8)",
           "rgba(255,0,0,0.8)",
           "rgba(255,0,0,0.8)",
           "rgba(255,0,0,0.8)",
           "rgba(0,255,0,0.8)",
           "rgba(0,255,0,0.8)",
           "rgba(0,255,0,0.8)",
           "rgba(255,0,0,0.8)",
           "rgba(255,0,0,0.8)",
           "rgba(0,255,0,0.8)",
           "rgba(255,0,0,0.8)",
           "rgba(0,255,0,0.8)",
           "rgba(0,255,0,0.8)",
           "rgba(0,255,0,0.8)",
           "rgba(255,0,0,0.8)",
           "rgba(255,0,0,0.8)",
           "rgba(0,255,0,0.8)",
           "rgba(255,0,0,0.8)",
           "rgba(255,0,0,0.8)",
           "rgba(255,0,0,0.8)",
           "rgba(0,255,0,0.8)",
           "rgba(255,0,0,0.8)",
           "rgba(0,255,0,0.8)",
           "rgba(255,0,0,0.8)"
          ],
          "label": [
           "Coal Plants",
           "Natural Gas_Pipeline",
           "OCGT",
           "Solar PV",
           "Imported Coal",
           "Dummy CE: transform PE to TE. Biomass",
           "Dummy CE: transform PE to TE. Imported Coal",
           "Regasification",
           "CCGT",
           "Crude Oil",
           "Wind Offshore",
           "Fuel Oil Plant",
           "Forestry Waste",
           "Wind",
           "Fuel Oil",
           "Nuclear",
           "Solid Waste",
           "Dummy CE: transform PE to TE. Natural Gas",
           "Biomass Plant",
           "Thermosolar",
           "Electricity",
           "Natural Gas",
           "Biofuel Production Plants",
           "Hydro",
           "CHP",
           "Nuclear Plant",
           "Refinery",
           "Agriculture Waste",
           "Solar",
           "Wind Onshore",
           "Biofuels",
           "Biogas",
           "Biomass",
           "Pumping Storage",
           "LNG",
           "Hydroelectric Generation",
           "Energy Crops"
          ],
          "line": {
           "color": "black",
           "width": 0.5
          },
          "pad": 15,
          "thickness": 20
         },
         "type": "sankey",
         "valueformat": ".0f",
         "valuesuffix": "TWh"
        }
       ],
       "layout": {
        "font": {
         "color": "black",
         "family": "Arial",
         "size": 10
        },
        "hovermode": "x",
        "paper_bgcolor": "white",
        "plot_bgcolor": "white",
        "template": {
         "data": {
          "bar": [
           {
            "error_x": {
             "color": "#2a3f5f"
            },
            "error_y": {
             "color": "#2a3f5f"
            },
            "marker": {
             "line": {
              "color": "#E5ECF6",
              "width": 0.5
             },
             "pattern": {
              "fillmode": "overlay",
              "size": 10,
              "solidity": 0.2
             }
            },
            "type": "bar"
           }
          ],
          "barpolar": [
           {
            "marker": {
             "line": {
              "color": "#E5ECF6",
              "width": 0.5
             },
             "pattern": {
              "fillmode": "overlay",
              "size": 10,
              "solidity": 0.2
             }
            },
            "type": "barpolar"
           }
          ],
          "carpet": [
           {
            "aaxis": {
             "endlinecolor": "#2a3f5f",
             "gridcolor": "white",
             "linecolor": "white",
             "minorgridcolor": "white",
             "startlinecolor": "#2a3f5f"
            },
            "baxis": {
             "endlinecolor": "#2a3f5f",
             "gridcolor": "white",
             "linecolor": "white",
             "minorgridcolor": "white",
             "startlinecolor": "#2a3f5f"
            },
            "type": "carpet"
           }
          ],
          "choropleth": [
           {
            "colorbar": {
             "outlinewidth": 0,
             "ticks": ""
            },
            "type": "choropleth"
           }
          ],
          "contour": [
           {
            "colorbar": {
             "outlinewidth": 0,
             "ticks": ""
            },
            "colorscale": [
             [
              0,
              "#0d0887"
             ],
             [
              0.1111111111111111,
              "#46039f"
             ],
             [
              0.2222222222222222,
              "#7201a8"
             ],
             [
              0.3333333333333333,
              "#9c179e"
             ],
             [
              0.4444444444444444,
              "#bd3786"
             ],
             [
              0.5555555555555556,
              "#d8576b"
             ],
             [
              0.6666666666666666,
              "#ed7953"
             ],
             [
              0.7777777777777778,
              "#fb9f3a"
             ],
             [
              0.8888888888888888,
              "#fdca26"
             ],
             [
              1,
              "#f0f921"
             ]
            ],
            "type": "contour"
           }
          ],
          "contourcarpet": [
           {
            "colorbar": {
             "outlinewidth": 0,
             "ticks": ""
            },
            "type": "contourcarpet"
           }
          ],
          "heatmap": [
           {
            "colorbar": {
             "outlinewidth": 0,
             "ticks": ""
            },
            "colorscale": [
             [
              0,
              "#0d0887"
             ],
             [
              0.1111111111111111,
              "#46039f"
             ],
             [
              0.2222222222222222,
              "#7201a8"
             ],
             [
              0.3333333333333333,
              "#9c179e"
             ],
             [
              0.4444444444444444,
              "#bd3786"
             ],
             [
              0.5555555555555556,
              "#d8576b"
             ],
             [
              0.6666666666666666,
              "#ed7953"
             ],
             [
              0.7777777777777778,
              "#fb9f3a"
             ],
             [
              0.8888888888888888,
              "#fdca26"
             ],
             [
              1,
              "#f0f921"
             ]
            ],
            "type": "heatmap"
           }
          ],
          "heatmapgl": [
           {
            "colorbar": {
             "outlinewidth": 0,
             "ticks": ""
            },
            "colorscale": [
             [
              0,
              "#0d0887"
             ],
             [
              0.1111111111111111,
              "#46039f"
             ],
             [
              0.2222222222222222,
              "#7201a8"
             ],
             [
              0.3333333333333333,
              "#9c179e"
             ],
             [
              0.4444444444444444,
              "#bd3786"
             ],
             [
              0.5555555555555556,
              "#d8576b"
             ],
             [
              0.6666666666666666,
              "#ed7953"
             ],
             [
              0.7777777777777778,
              "#fb9f3a"
             ],
             [
              0.8888888888888888,
              "#fdca26"
             ],
             [
              1,
              "#f0f921"
             ]
            ],
            "type": "heatmapgl"
           }
          ],
          "histogram": [
           {
            "marker": {
             "pattern": {
              "fillmode": "overlay",
              "size": 10,
              "solidity": 0.2
             }
            },
            "type": "histogram"
           }
          ],
          "histogram2d": [
           {
            "colorbar": {
             "outlinewidth": 0,
             "ticks": ""
            },
            "colorscale": [
             [
              0,
              "#0d0887"
             ],
             [
              0.1111111111111111,
              "#46039f"
             ],
             [
              0.2222222222222222,
              "#7201a8"
             ],
             [
              0.3333333333333333,
              "#9c179e"
             ],
             [
              0.4444444444444444,
              "#bd3786"
             ],
             [
              0.5555555555555556,
              "#d8576b"
             ],
             [
              0.6666666666666666,
              "#ed7953"
             ],
             [
              0.7777777777777778,
              "#fb9f3a"
             ],
             [
              0.8888888888888888,
              "#fdca26"
             ],
             [
              1,
              "#f0f921"
             ]
            ],
            "type": "histogram2d"
           }
          ],
          "histogram2dcontour": [
           {
            "colorbar": {
             "outlinewidth": 0,
             "ticks": ""
            },
            "colorscale": [
             [
              0,
              "#0d0887"
             ],
             [
              0.1111111111111111,
              "#46039f"
             ],
             [
              0.2222222222222222,
              "#7201a8"
             ],
             [
              0.3333333333333333,
              "#9c179e"
             ],
             [
              0.4444444444444444,
              "#bd3786"
             ],
             [
              0.5555555555555556,
              "#d8576b"
             ],
             [
              0.6666666666666666,
              "#ed7953"
             ],
             [
              0.7777777777777778,
              "#fb9f3a"
             ],
             [
              0.8888888888888888,
              "#fdca26"
             ],
             [
              1,
              "#f0f921"
             ]
            ],
            "type": "histogram2dcontour"
           }
          ],
          "mesh3d": [
           {
            "colorbar": {
             "outlinewidth": 0,
             "ticks": ""
            },
            "type": "mesh3d"
           }
          ],
          "parcoords": [
           {
            "line": {
             "colorbar": {
              "outlinewidth": 0,
              "ticks": ""
             }
            },
            "type": "parcoords"
           }
          ],
          "pie": [
           {
            "automargin": true,
            "type": "pie"
           }
          ],
          "scatter": [
           {
            "fillpattern": {
             "fillmode": "overlay",
             "size": 10,
             "solidity": 0.2
            },
            "type": "scatter"
           }
          ],
          "scatter3d": [
           {
            "line": {
             "colorbar": {
              "outlinewidth": 0,
              "ticks": ""
             }
            },
            "marker": {
             "colorbar": {
              "outlinewidth": 0,
              "ticks": ""
             }
            },
            "type": "scatter3d"
           }
          ],
          "scattercarpet": [
           {
            "marker": {
             "colorbar": {
              "outlinewidth": 0,
              "ticks": ""
             }
            },
            "type": "scattercarpet"
           }
          ],
          "scattergeo": [
           {
            "marker": {
             "colorbar": {
              "outlinewidth": 0,
              "ticks": ""
             }
            },
            "type": "scattergeo"
           }
          ],
          "scattergl": [
           {
            "marker": {
             "colorbar": {
              "outlinewidth": 0,
              "ticks": ""
             }
            },
            "type": "scattergl"
           }
          ],
          "scattermapbox": [
           {
            "marker": {
             "colorbar": {
              "outlinewidth": 0,
              "ticks": ""
             }
            },
            "type": "scattermapbox"
           }
          ],
          "scatterpolar": [
           {
            "marker": {
             "colorbar": {
              "outlinewidth": 0,
              "ticks": ""
             }
            },
            "type": "scatterpolar"
           }
          ],
          "scatterpolargl": [
           {
            "marker": {
             "colorbar": {
              "outlinewidth": 0,
              "ticks": ""
             }
            },
            "type": "scatterpolargl"
           }
          ],
          "scatterternary": [
           {
            "marker": {
             "colorbar": {
              "outlinewidth": 0,
              "ticks": ""
             }
            },
            "type": "scatterternary"
           }
          ],
          "surface": [
           {
            "colorbar": {
             "outlinewidth": 0,
             "ticks": ""
            },
            "colorscale": [
             [
              0,
              "#0d0887"
             ],
             [
              0.1111111111111111,
              "#46039f"
             ],
             [
              0.2222222222222222,
              "#7201a8"
             ],
             [
              0.3333333333333333,
              "#9c179e"
             ],
             [
              0.4444444444444444,
              "#bd3786"
             ],
             [
              0.5555555555555556,
              "#d8576b"
             ],
             [
              0.6666666666666666,
              "#ed7953"
             ],
             [
              0.7777777777777778,
              "#fb9f3a"
             ],
             [
              0.8888888888888888,
              "#fdca26"
             ],
             [
              1,
              "#f0f921"
             ]
            ],
            "type": "surface"
           }
          ],
          "table": [
           {
            "cells": {
             "fill": {
              "color": "#EBF0F8"
             },
             "line": {
              "color": "white"
             }
            },
            "header": {
             "fill": {
              "color": "#C8D4E3"
             },
             "line": {
              "color": "white"
             }
            },
            "type": "table"
           }
          ]
         },
         "layout": {
          "annotationdefaults": {
           "arrowcolor": "#2a3f5f",
           "arrowhead": 0,
           "arrowwidth": 1
          },
          "autotypenumbers": "strict",
          "coloraxis": {
           "colorbar": {
            "outlinewidth": 0,
            "ticks": ""
           }
          },
          "colorscale": {
           "diverging": [
            [
             0,
             "#8e0152"
            ],
            [
             0.1,
             "#c51b7d"
            ],
            [
             0.2,
             "#de77ae"
            ],
            [
             0.3,
             "#f1b6da"
            ],
            [
             0.4,
             "#fde0ef"
            ],
            [
             0.5,
             "#f7f7f7"
            ],
            [
             0.6,
             "#e6f5d0"
            ],
            [
             0.7,
             "#b8e186"
            ],
            [
             0.8,
             "#7fbc41"
            ],
            [
             0.9,
             "#4d9221"
            ],
            [
             1,
             "#276419"
            ]
           ],
           "sequential": [
            [
             0,
             "#0d0887"
            ],
            [
             0.1111111111111111,
             "#46039f"
            ],
            [
             0.2222222222222222,
             "#7201a8"
            ],
            [
             0.3333333333333333,
             "#9c179e"
            ],
            [
             0.4444444444444444,
             "#bd3786"
            ],
            [
             0.5555555555555556,
             "#d8576b"
            ],
            [
             0.6666666666666666,
             "#ed7953"
            ],
            [
             0.7777777777777778,
             "#fb9f3a"
            ],
            [
             0.8888888888888888,
             "#fdca26"
            ],
            [
             1,
             "#f0f921"
            ]
           ],
           "sequentialminus": [
            [
             0,
             "#0d0887"
            ],
            [
             0.1111111111111111,
             "#46039f"
            ],
            [
             0.2222222222222222,
             "#7201a8"
            ],
            [
             0.3333333333333333,
             "#9c179e"
            ],
            [
             0.4444444444444444,
             "#bd3786"
            ],
            [
             0.5555555555555556,
             "#d8576b"
            ],
            [
             0.6666666666666666,
             "#ed7953"
            ],
            [
             0.7777777777777778,
             "#fb9f3a"
            ],
            [
             0.8888888888888888,
             "#fdca26"
            ],
            [
             1,
             "#f0f921"
            ]
           ]
          },
          "colorway": [
           "#636efa",
           "#EF553B",
           "#00cc96",
           "#ab63fa",
           "#FFA15A",
           "#19d3f3",
           "#FF6692",
           "#B6E880",
           "#FF97FF",
           "#FECB52"
          ],
          "font": {
           "color": "#2a3f5f"
          },
          "geo": {
           "bgcolor": "white",
           "lakecolor": "white",
           "landcolor": "#E5ECF6",
           "showlakes": true,
           "showland": true,
           "subunitcolor": "white"
          },
          "hoverlabel": {
           "align": "left"
          },
          "hovermode": "closest",
          "mapbox": {
           "style": "light"
          },
          "paper_bgcolor": "white",
          "plot_bgcolor": "#E5ECF6",
          "polar": {
           "angularaxis": {
            "gridcolor": "white",
            "linecolor": "white",
            "ticks": ""
           },
           "bgcolor": "#E5ECF6",
           "radialaxis": {
            "gridcolor": "white",
            "linecolor": "white",
            "ticks": ""
           }
          },
          "scene": {
           "xaxis": {
            "backgroundcolor": "#E5ECF6",
            "gridcolor": "white",
            "gridwidth": 2,
            "linecolor": "white",
            "showbackground": true,
            "ticks": "",
            "zerolinecolor": "white"
           },
           "yaxis": {
            "backgroundcolor": "#E5ECF6",
            "gridcolor": "white",
            "gridwidth": 2,
            "linecolor": "white",
            "showbackground": true,
            "ticks": "",
            "zerolinecolor": "white"
           },
           "zaxis": {
            "backgroundcolor": "#E5ECF6",
            "gridcolor": "white",
            "gridwidth": 2,
            "linecolor": "white",
            "showbackground": true,
            "ticks": "",
            "zerolinecolor": "white"
           }
          },
          "shapedefaults": {
           "line": {
            "color": "#2a3f5f"
           }
          },
          "ternary": {
           "aaxis": {
            "gridcolor": "white",
            "linecolor": "white",
            "ticks": ""
           },
           "baxis": {
            "gridcolor": "white",
            "linecolor": "white",
            "ticks": ""
           },
           "bgcolor": "#E5ECF6",
           "caxis": {
            "gridcolor": "white",
            "linecolor": "white",
            "ticks": ""
           }
          },
          "title": {
           "x": 0.05
          },
          "xaxis": {
           "automargin": true,
           "gridcolor": "white",
           "linecolor": "white",
           "ticks": "",
           "title": {
            "standoff": 15
           },
           "zerolinecolor": "white",
           "zerolinewidth": 2
          },
          "yaxis": {
           "automargin": true,
           "gridcolor": "white",
           "linecolor": "white",
           "ticks": "",
           "title": {
            "standoff": 15
           },
           "zerolinecolor": "white",
           "zerolinewidth": 2
          }
         }
        },
        "title": {
         "text": ""
        }
       }
      }
     },
     "metadata": {},
     "output_type": "display_data"
    }
   ],
   "source": [
    "create_sankey_diagram(link_sources, link_targets, link_values, node_labels, link_labels, node_colors, link_colors)"
   ]
  }
 ],
 "metadata": {
  "kernelspec": {
   "display_name": "Python 3",
   "language": "python",
   "name": "python3"
  },
  "language_info": {
   "codemirror_mode": {
    "name": "ipython",
    "version": 3
   },
   "file_extension": ".py",
   "mimetype": "text/x-python",
   "name": "python",
   "nbconvert_exporter": "python",
   "pygments_lexer": "ipython3",
   "version": "3.10.11"
  },
  "orig_nbformat": 4
 },
 "nbformat": 4,
 "nbformat_minor": 2
}
